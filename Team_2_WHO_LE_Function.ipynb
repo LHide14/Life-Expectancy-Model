{
 "cells": [
  {
   "cell_type": "markdown",
   "source": [
    "![WHO LOGO](data:image/png;base64,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)"
   ],
   "metadata": {
    "collapsed": false
   }
  },
  {
   "cell_type": "markdown",
   "source": [
    "# WHO Life Expectancy Model"
   ],
   "metadata": {
    "collapsed": false
   }
  },
  {
   "cell_type": "markdown",
   "source": [
    "## Importing From Related Sheet"
   ],
   "metadata": {
    "collapsed": false
   }
  },
  {
   "cell_type": "code",
   "execution_count": 1,
   "metadata": {
    "collapsed": true,
    "ExecuteTime": {
     "end_time": "2023-07-10T13:18:13.963464100Z",
     "start_time": "2023-07-10T13:18:12.422414Z"
    }
   },
   "outputs": [
    {
     "name": "stderr",
     "output_type": "stream",
     "text": [
      "C:\\Users\\lawre\\anaconda3\\Lib\\site-packages\\statsmodels\\regression\\linear_model.py:1752: RuntimeWarning: divide by zero encountered in double_scalars\n",
      "  return 1 - self.ssr/self.centered_tss\n",
      "C:\\Users\\lawre\\anaconda3\\Lib\\site-packages\\statsmodels\\stats\\outliers_influence.py:195: RuntimeWarning: divide by zero encountered in double_scalars\n",
      "  vif = 1. / (1. - r_squared_i)\n"
     ]
    },
    {
     "name": "stdout",
     "output_type": "stream",
     "text": [
      "dropping 'Economy_status_Developed' at index: 17\n",
      "dropping 'Under_five_deaths' at index: 3\n",
      "dropping 'const' at index: 0\n",
      "dropping 'Diphtheria' at index: 8\n",
      "dropping 'Thinness_ten_nineteen_years' at index: 11\n",
      "Remaining variables:\n",
      "Index(['Year', 'Infant_deaths', 'Adult_mortality', 'Alcohol_consumption',\n",
      "       'Hepatitis_B', 'Measles', 'BMI', 'Polio', 'Incidents_HIV',\n",
      "       'GDP_per_capita', 'Population_mln', 'Thinness_five_nine_years',\n",
      "       'Schooling', 'Economy_status_Developing'],\n",
      "      dtype='object')\n",
      "1.4066951200436648\n",
      "1.440408196066944\n",
      "1.5072643164796578\n",
      "1.499878349366194\n"
     ]
    }
   ],
   "source": [
    "from ipynb.fs.full.Team_2_WHO_FE_Model_final import *"
   ]
  },
  {
   "cell_type": "markdown",
   "source": [
    "## The Function"
   ],
   "metadata": {
    "collapsed": false
   }
  },
  {
   "cell_type": "code",
   "execution_count": 15,
   "outputs": [
    {
     "name": "stdout",
     "output_type": "stream",
     "text": [
      "79.19044935211728\n"
     ]
    }
   ],
   "source": [
    "model_input(feature_cols_least, rob_least, feature_cols_best, rob_best)"
   ],
   "metadata": {
    "collapsed": false,
    "ExecuteTime": {
     "end_time": "2023-07-10T13:49:46.886338500Z",
     "start_time": "2023-07-10T13:48:29.652861Z"
    }
   }
  },
  {
   "cell_type": "markdown",
   "source": [
    "## Data for Testing Function"
   ],
   "metadata": {
    "collapsed": false
   }
  },
  {
   "cell_type": "code",
   "execution_count": 11,
   "outputs": [
    {
     "data": {
      "text/plain": "   Infant_deaths  Adult_mortality  Alcohol_consumption  Hepatitis_B   BMI  \\\n0           11.1         105.8240                 1.32           97  27.8   \n1            2.7          57.9025                10.35           97  26.0   \n2           51.5         201.0765                 1.57           60  21.2   \n3           32.8         222.1965                 5.68           93  25.3   \n4            3.4          57.9510                 2.89           97  27.0   \n\n   Polio  Incidents_HIV  GDP_per_capita  Thinness_five_nine_years  Schooling  \\\n0     97           0.08           11006                       4.8        7.8   \n1     97           0.09           25742                       0.5        9.7   \n2     67           0.13            1076                      28.0        5.0   \n3     92           0.79            4146                       5.5        7.9   \n4     94           0.08           33995                       1.1       12.8   \n\n   Life_expectancy  \n0             76.5  \n1             82.8  \n2             65.4  \n3             67.0  \n4             81.7  ",
      "text/html": "<div>\n<style scoped>\n    .dataframe tbody tr th:only-of-type {\n        vertical-align: middle;\n    }\n\n    .dataframe tbody tr th {\n        vertical-align: top;\n    }\n\n    .dataframe thead th {\n        text-align: right;\n    }\n</style>\n<table border=\"1\" class=\"dataframe\">\n  <thead>\n    <tr style=\"text-align: right;\">\n      <th></th>\n      <th>Infant_deaths</th>\n      <th>Adult_mortality</th>\n      <th>Alcohol_consumption</th>\n      <th>Hepatitis_B</th>\n      <th>BMI</th>\n      <th>Polio</th>\n      <th>Incidents_HIV</th>\n      <th>GDP_per_capita</th>\n      <th>Thinness_five_nine_years</th>\n      <th>Schooling</th>\n      <th>Life_expectancy</th>\n    </tr>\n  </thead>\n  <tbody>\n    <tr>\n      <th>0</th>\n      <td>11.1</td>\n      <td>105.8240</td>\n      <td>1.32</td>\n      <td>97</td>\n      <td>27.8</td>\n      <td>97</td>\n      <td>0.08</td>\n      <td>11006</td>\n      <td>4.8</td>\n      <td>7.8</td>\n      <td>76.5</td>\n    </tr>\n    <tr>\n      <th>1</th>\n      <td>2.7</td>\n      <td>57.9025</td>\n      <td>10.35</td>\n      <td>97</td>\n      <td>26.0</td>\n      <td>97</td>\n      <td>0.09</td>\n      <td>25742</td>\n      <td>0.5</td>\n      <td>9.7</td>\n      <td>82.8</td>\n    </tr>\n    <tr>\n      <th>2</th>\n      <td>51.5</td>\n      <td>201.0765</td>\n      <td>1.57</td>\n      <td>60</td>\n      <td>21.2</td>\n      <td>67</td>\n      <td>0.13</td>\n      <td>1076</td>\n      <td>28.0</td>\n      <td>5.0</td>\n      <td>65.4</td>\n    </tr>\n    <tr>\n      <th>3</th>\n      <td>32.8</td>\n      <td>222.1965</td>\n      <td>5.68</td>\n      <td>93</td>\n      <td>25.3</td>\n      <td>92</td>\n      <td>0.79</td>\n      <td>4146</td>\n      <td>5.5</td>\n      <td>7.9</td>\n      <td>67.0</td>\n    </tr>\n    <tr>\n      <th>4</th>\n      <td>3.4</td>\n      <td>57.9510</td>\n      <td>2.89</td>\n      <td>97</td>\n      <td>27.0</td>\n      <td>94</td>\n      <td>0.08</td>\n      <td>33995</td>\n      <td>1.1</td>\n      <td>12.8</td>\n      <td>81.7</td>\n    </tr>\n  </tbody>\n</table>\n</div>"
     },
     "execution_count": 11,
     "metadata": {},
     "output_type": "execute_result"
    }
   ],
   "source": [
    "new[['Infant_deaths', 'Adult_mortality', 'Alcohol_consumption',\n",
    "'Hepatitis_B', 'BMI', 'Polio', 'Incidents_HIV',\n",
    "'GDP_per_capita', 'Thinness_five_nine_years',\n",
    "'Schooling', 'Life_expectancy']].head()"
   ],
   "metadata": {
    "collapsed": false,
    "ExecuteTime": {
     "end_time": "2023-07-10T13:37:59.539502400Z",
     "start_time": "2023-07-10T13:37:59.517555300Z"
    }
   }
  }
 ],
 "metadata": {
  "kernelspec": {
   "display_name": "Python 3",
   "language": "python",
   "name": "python3"
  },
  "language_info": {
   "codemirror_mode": {
    "name": "ipython",
    "version": 2
   },
   "file_extension": ".py",
   "mimetype": "text/x-python",
   "name": "python",
   "nbconvert_exporter": "python",
   "pygments_lexer": "ipython2",
   "version": "2.7.6"
  }
 },
 "nbformat": 4,
 "nbformat_minor": 0
}
